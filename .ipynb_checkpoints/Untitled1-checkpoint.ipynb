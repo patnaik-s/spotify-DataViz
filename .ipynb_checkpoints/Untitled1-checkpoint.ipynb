{
 "cells": [
  {
   "cell_type": "code",
   "execution_count": 3,
   "id": "0226984a",
   "metadata": {},
   "outputs": [],
   "source": [
    "import spotipy.util as util\n",
    "\n",
    "username = 'ozdakaac3d5c3izl7tcrrzu7i'\n",
    "client_id ='49d5708ae93e44cc98d01a16a5f4677b'\n",
    "client_secret = '8de6296d292e4002bd895bba2f5e8d35'\n",
    "redirect_uri = 'http://localhost:7777/callback'\n",
    "scope = 'user-read-recently-played'\n",
    "\n",
    "token = util.prompt_for_user_token(username=username, \n",
    "                                   scope=scope, \n",
    "                                   client_id=client_id,   \n",
    "                                   client_secret=client_secret,     \n",
    "                                   redirect_uri=redirect_uri)"
   ]
  },
  {
   "cell_type": "code",
   "execution_count": 2,
   "id": "b4f78f75",
   "metadata": {},
   "outputs": [
    {
     "name": "stdout",
     "output_type": "stream",
     "text": [
      "Collecting spotipy\n",
      "  Downloading spotipy-2.23.0-py3-none-any.whl (29 kB)\n",
      "Requirement already satisfied: urllib3>=1.26.0 in c:\\users\\rog\\anaconda3\\lib\\site-packages (from spotipy) (1.26.13)\n",
      "Collecting redis>=3.5.3\n",
      "  Downloading redis-5.0.1-py3-none-any.whl (250 kB)\n",
      "     ------------------------------------ 250.3/250.3 kB 529.9 kB/s eta 0:00:00\n",
      "Requirement already satisfied: requests>=2.25.0 in c:\\users\\rog\\anaconda3\\lib\\site-packages (from spotipy) (2.28.1)\n",
      "Requirement already satisfied: six>=1.15.0 in c:\\users\\rog\\anaconda3\\lib\\site-packages (from spotipy) (1.16.0)\n",
      "Requirement already satisfied: async-timeout>=4.0.2 in c:\\users\\rog\\anaconda3\\lib\\site-packages (from redis>=3.5.3->spotipy) (4.0.2)\n",
      "Requirement already satisfied: charset-normalizer<3,>=2 in c:\\users\\rog\\anaconda3\\lib\\site-packages (from requests>=2.25.0->spotipy) (2.0.4)\n",
      "Requirement already satisfied: idna<4,>=2.5 in c:\\users\\rog\\anaconda3\\lib\\site-packages (from requests>=2.25.0->spotipy) (3.4)\n",
      "Requirement already satisfied: certifi>=2017.4.17 in c:\\users\\rog\\anaconda3\\lib\\site-packages (from requests>=2.25.0->spotipy) (2022.6.15)\n",
      "Installing collected packages: redis, spotipy\n",
      "Successfully installed redis-5.0.1 spotipy-2.23.0\n",
      "Note: you may need to restart the kernel to use updated packages.\n"
     ]
    }
   ],
   "source": [
    "pip install spotipy"
   ]
  },
  {
   "cell_type": "code",
   "execution_count": 4,
   "id": "501c0f18",
   "metadata": {},
   "outputs": [
    {
     "name": "stdout",
     "output_type": "stream",
     "text": [
      "BQA-5JohjVrG2Cd-rkYQbEk1rTEyldC3mXXCrOB6efzarbo2O3viSeXcRzqxoAx1iNWggCiaAv5qj9qPSljQQ4BR2Hy9iX8N79IEgulOo2hmdEayOoHi1vsTFg9ywrhRZKH6Sv0Jsz-qbXx8aJkNQXGrNHdLuI1O7SYsp9JVDgF-t0ZMlB2cU7ldrFBrfGigGzVahuS3yUI\n"
     ]
    }
   ],
   "source": [
    "print(token)"
   ]
  },
  {
   "cell_type": "code",
   "execution_count": null,
   "id": "f3b28c14",
   "metadata": {},
   "outputs": [],
   "source": []
  }
 ],
 "metadata": {
  "kernelspec": {
   "display_name": "Python 3 (ipykernel)",
   "language": "python",
   "name": "python3"
  },
  "language_info": {
   "codemirror_mode": {
    "name": "ipython",
    "version": 3
   },
   "file_extension": ".py",
   "mimetype": "text/x-python",
   "name": "python",
   "nbconvert_exporter": "python",
   "pygments_lexer": "ipython3",
   "version": "3.9.7"
  }
 },
 "nbformat": 4,
 "nbformat_minor": 5
}
